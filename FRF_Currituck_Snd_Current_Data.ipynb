{
 "cells": [
  {
   "cell_type": "markdown",
   "metadata": {},
   "source": [
    "# FRF_Currituck Sound Current Data\n",
    "\n",
    "Reading the FRF Thredds Server netCDF data for horizintal water currents recorded in the Currituck Sound and writing these data, or a subset thereof, to a comma-separated values file. \n",
    "\n",
    "What data?\n",
    "\n",
    "- time (converted to ISO 8601 format)\n",
    "- meanPressure: sea water pressure\n",
    "- aveE: verically averaged eastward water current\n",
    "- aveN: vertically averaged northward water current\n",
    "- currentSpeed: vertically averaged current speed\n",
    "- currentDirection: vertically averaged current direction"
   ]
  },
  {
   "cell_type": "code",
   "execution_count": 3,
   "metadata": {},
   "outputs": [],
   "source": [
    "import pandas as pd\n",
    "import numpy as np\n",
    "import matplotlib.pyplot as plt\n",
    "import netCDF4\n",
    "\n",
    "%matplotlib inline"
   ]
  },
  {
   "cell_type": "markdown",
   "metadata": {},
   "source": [
    "### Load source file location information and load copy of data to local container:"
   ]
  },
  {
   "cell_type": "code",
   "execution_count": 83,
   "metadata": {},
   "outputs": [],
   "source": [
    "url_base='https://chlthredds.erdc.dren.mil/thredds/dodsC/frf/oceanography/currents/'\n",
    "url='CS05-ADOP/CS05-ADOP.ncml'\n",
    "urls=[\n",
    "    'CS01-ADOP/CS01-ADOP.ncml',\n",
    "    'CS02-ADOP/CS02-ADOP.ncml',\n",
    "    'CS03-ADOP/CS03-ADOP.ncml',\n",
    "    'CS04-ADOP/CS04-ADOP.ncml',\n",
    "    'CS05-ADOP/CS05-ADOP.ncml']\n",
    "    \n",
    "nc=netCDF4.Dataset(url_base+url)"
   ]
  },
  {
   "cell_type": "markdown",
   "metadata": {},
   "source": [
    "### Validate Variables:\n",
    "\n",
    "Check for variables present in the data, along with their length. If the lengths differ (indicating missing data) it's probably best to just drop the variable from further consideration. If you really need it, you might be able to pad it to match the size of the other vars..."
   ]
  },
  {
   "cell_type": "code",
   "execution_count": 84,
   "metadata": {},
   "outputs": [
    {
     "name": "stdout",
     "output_type": "stream",
     "text": [
      "Variables present in the file, and their length (based on np.shape:\n",
      "latitude ()\n",
      "longitude ()\n",
      "depth (15,)\n",
      "numBins ()\n",
      "cellSize ()\n",
      "time (32390,)\n",
      "meanPressure (32390,)\n",
      "aveE (32390,)\n",
      "aveN (32390,)\n",
      "blankDist (32390,)\n",
      "maxCell (32390,)\n",
      "currentSpeed (32390,)\n",
      "currentDirection (32390,)\n",
      "qcFlag (32390,)\n",
      "meanIntensity (32390,)\n",
      "aveTime (32390,)\n",
      "currentEast (32390, 15)\n",
      "currentNorth (32390, 15)\n",
      "currentUp (32390, 15)\n",
      "beam1Intensity (32390, 15)\n",
      "beam2Intensity (32390, 15)\n",
      "beam3Intensity (32390, 15)\n"
     ]
    }
   ],
   "source": [
    "print('Variables present in the file, and their length (based on np.shape:')\n",
    "for var in nc.variables:\n",
    "    print(var, np.shape(nc.variables[var]))"
   ]
  },
  {
   "cell_type": "markdown",
   "metadata": {},
   "source": [
    "### List the Station Position (Latitude and Longitude):"
   ]
  },
  {
   "cell_type": "code",
   "execution_count": 85,
   "metadata": {},
   "outputs": [
    {
     "name": "stdout",
     "output_type": "stream",
     "text": [
      "-75.76118 36.178999\n"
     ]
    }
   ],
   "source": [
    "print(nc.variables['longitude'][0], nc.variables['latitude'][0])"
   ]
  },
  {
   "cell_type": "markdown",
   "metadata": {},
   "source": [
    "### Copy Data to Comma-Separated Values file:"
   ]
  },
  {
   "cell_type": "code",
   "execution_count": 86,
   "metadata": {},
   "outputs": [],
   "source": [
    "times=nc.variables['time']\n",
    "\n",
    "csdict={\n",
    "'meanPressure' : nc.variables['meanPressure'],\n",
    "'aveE' : nc.variables['aveE'],\n",
    "'aveN' : nc.variables['aveN'],\n",
    "'currentSpeed' : nc.variables['currentSpeed'],\n",
    "'currentDirection' : nc.variables['currentDirection']\n",
    "}\n",
    "    \n",
    "dt = netCDF4.num2date(times[:],times.units)\n",
    "df = pd.DataFrame(csdict,index=dt)\n",
    "df.to_csv('./FRF_'+url[10:-5]+'_Currents_ALL.csv')"
   ]
  },
  {
   "cell_type": "markdown",
   "metadata": {},
   "source": [
    "## Parse current data gathered by station into individual files by year and month..."
   ]
  },
  {
   "cell_type": "code",
   "execution_count": 6,
   "metadata": {},
   "outputs": [
    {
     "name": "stdout",
     "output_type": "stream",
     "text": [
      "for station: FRF_CS01-ADOP_Currents_ALL.csv\n",
      "   Processing year: 2016\n",
      "      No data for 01 2016\n",
      "   Processing year: 2017\n",
      "   Processing year: 2018\n",
      "      No data for 02 2018\n",
      "      No data for 03 2018\n",
      "      No data for 04 2018\n",
      "      No data for 05 2018\n",
      "      No data for 06 2018\n",
      "      No data for 07 2018\n",
      "      No data for 08 2018\n",
      "      No data for 09 2018\n",
      "      No data for 10 2018\n",
      "      No data for 11 2018\n",
      "      No data for 12 2018\n",
      "for station: FRF_CS02-ADOP_Currents_ALL.csv\n",
      "   Processing year: 2016\n",
      "      No data for 01 2016\n",
      "      No data for 02 2016\n",
      "   Processing year: 2017\n",
      "   Processing year: 2018\n",
      "      No data for 02 2018\n",
      "      No data for 03 2018\n",
      "      No data for 04 2018\n",
      "      No data for 05 2018\n",
      "      No data for 06 2018\n",
      "      No data for 07 2018\n",
      "      No data for 08 2018\n",
      "      No data for 09 2018\n",
      "      No data for 10 2018\n",
      "      No data for 11 2018\n",
      "      No data for 12 2018\n",
      "for station: FRF_CS03-ADOP_Currents_ALL.csv\n",
      "   Processing year: 2016\n",
      "      No data for 01 2016\n",
      "      No data for 02 2016\n",
      "      No data for 03 2016\n",
      "      No data for 06 2016\n",
      "      No data for 07 2016\n",
      "      No data for 08 2016\n",
      "      No data for 09 2016\n",
      "      No data for 10 2016\n",
      "      No data for 11 2016\n",
      "      No data for 12 2016\n",
      "   Processing year: 2017\n",
      "      No data for 01 2017\n",
      "      No data for 02 2017\n",
      "      No data for 03 2017\n",
      "      No data for 04 2017\n",
      "      No data for 05 2017\n",
      "      No data for 06 2017\n",
      "      No data for 07 2017\n",
      "      No data for 08 2017\n",
      "      No data for 09 2017\n",
      "      No data for 10 2017\n",
      "      No data for 11 2017\n",
      "      No data for 12 2017\n",
      "   Processing year: 2018\n",
      "      No data for 01 2018\n",
      "      No data for 02 2018\n",
      "      No data for 03 2018\n",
      "      No data for 04 2018\n",
      "      No data for 05 2018\n",
      "      No data for 06 2018\n",
      "      No data for 07 2018\n",
      "      No data for 08 2018\n",
      "      No data for 09 2018\n",
      "      No data for 10 2018\n",
      "      No data for 11 2018\n",
      "      No data for 12 2018\n",
      "for station: FRF_CS04-ADOP_Currents_ALL.csv\n",
      "   Processing year: 2016\n",
      "      No data for 01 2016\n",
      "   Processing year: 2017\n",
      "      No data for 06 2017\n",
      "      No data for 08 2017\n",
      "      No data for 09 2017\n",
      "      No data for 10 2017\n",
      "      No data for 12 2017\n",
      "   Processing year: 2018\n",
      "      No data for 01 2018\n",
      "      No data for 02 2018\n",
      "      No data for 03 2018\n",
      "      No data for 04 2018\n",
      "      No data for 05 2018\n",
      "      No data for 06 2018\n",
      "      No data for 07 2018\n",
      "      No data for 08 2018\n",
      "      No data for 09 2018\n",
      "      No data for 10 2018\n",
      "      No data for 11 2018\n",
      "      No data for 12 2018\n",
      "for station: FRF_CS05-ADOP_Currents_ALL.csv\n",
      "   Processing year: 2016\n",
      "      No data for 05 2016\n",
      "   Processing year: 2017\n",
      "   Processing year: 2018\n",
      "      No data for 02 2018\n",
      "      No data for 03 2018\n",
      "      No data for 04 2018\n",
      "      No data for 05 2018\n",
      "      No data for 06 2018\n",
      "      No data for 07 2018\n",
      "      No data for 08 2018\n",
      "      No data for 09 2018\n",
      "      No data for 10 2018\n",
      "      No data for 11 2018\n",
      "      No data for 12 2018\n",
      "All done!\n"
     ]
    }
   ],
   "source": [
    "file_path='/Users/paulp/GoogleDrive/projects/CurrituckSnd/CS_Stations/'\n",
    "stations=['FRF_CS01-ADOP_Currents_ALL.csv','FRF_CS02-ADOP_Currents_ALL.csv','FRF_CS03-ADOP_Currents_ALL.csv',\n",
    "         'FRF_CS04-ADOP_Currents_ALL.csv','FRF_CS05-ADOP_Currents_ALL.csv']\n",
    "years=['2016','2017','2018']\n",
    "months=['01','02','03','04','05','06','07','08','09','10','11','12']\n",
    "\n",
    "for station in stations:\n",
    "    print('for station:', station)\n",
    "    dfw=pd.read_csv(file_path+station[4:8]+'/'+station, index_col='datetime')\n",
    "    for year in years:\n",
    "        print('   Processing year:', year)\n",
    "        for month in months:\n",
    "            start_date = year+'-'+month+'-01 00:00:00'\n",
    "            end_date = year+'-'+month+'-31 59:59:59.9999999'\n",
    "\n",
    "            #print(index, start_date, end_date)\n",
    "            dfo=dfw.loc[(dfw.index >= start_date) & (dfw.index <= end_date)].copy()\n",
    "            if dfo.empty:\n",
    "                print('      No data for', month, year)\n",
    "            else:\n",
    "                dfo.to_csv(file_path+station[4:8]+'/'+'FRF_'+station[4:8]+'_ADOP_Currents_'+year+month+'.csv')\n",
    "        \n",
    "print('All done!')"
   ]
  },
  {
   "cell_type": "code",
   "execution_count": 5,
   "metadata": {},
   "outputs": [
    {
     "data": {
      "text/plain": [
       "'CS01'"
      ]
     },
     "execution_count": 5,
     "metadata": {},
     "output_type": "execute_result"
    }
   ],
   "source": [
    "s='FRF_CS01-ADOP_Currents_ALL.csv'\n",
    "\n",
    "s[4:8]"
   ]
  },
  {
   "cell_type": "code",
   "execution_count": null,
   "metadata": {},
   "outputs": [],
   "source": []
  }
 ],
 "metadata": {
  "kernelspec": {
   "display_name": "Python 3",
   "language": "python",
   "name": "python3"
  },
  "language_info": {
   "codemirror_mode": {
    "name": "ipython",
    "version": 3
   },
   "file_extension": ".py",
   "mimetype": "text/x-python",
   "name": "python",
   "nbconvert_exporter": "python",
   "pygments_lexer": "ipython3",
   "version": "3.5.4"
  }
 },
 "nbformat": 4,
 "nbformat_minor": 2
}
